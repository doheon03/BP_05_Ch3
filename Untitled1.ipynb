{
  "nbformat": 4,
  "nbformat_minor": 0,
  "metadata": {
    "colab": {
      "provenance": [],
      "authorship_tag": "ABX9TyNLApHgkC5NEH7SqnxdhCem",
      "include_colab_link": true
    },
    "kernelspec": {
      "name": "python3",
      "display_name": "Python 3"
    },
    "language_info": {
      "name": "python"
    }
  },
  "cells": [
    {
      "cell_type": "markdown",
      "metadata": {
        "id": "view-in-github",
        "colab_type": "text"
      },
      "source": [
        "<a href=\"https://colab.research.google.com/github/doheon03/BP_05_Ch3/blob/main/Untitled1.ipynb\" target=\"_parent\"><img src=\"https://colab.research.google.com/assets/colab-badge.svg\" alt=\"Open In Colab\"/></a>"
      ]
    },
    {
      "cell_type": "markdown",
      "source": [
        "1.용자로부터 두 개의 정수를 받°圖 정수의 합 정수의 차 정수의 곱 졍수의 펑균, 큰\n",
        "수 작은 수를 계산하여 화면에 출럭하는 프로그랩을 작셩하라 파이썬이 제공하는 내\n",
        "장 함수 max(x, y), min(x, y)을 사용해보자. "
      ],
      "metadata": {
        "id": "YBpNurvchx4R"
      }
    },
    {
      "cell_type": "code",
      "execution_count": null,
      "metadata": {
        "colab": {
          "base_uri": "https://localhost:8080/"
        },
        "id": "v5xexPkQacYq",
        "outputId": "ec1d0dae-c28a-4b93-b1d4-83f13a4d12b1"
      },
      "outputs": [
        {
          "output_type": "stream",
          "name": "stdout",
          "text": [
            "x의 값은?:9\n",
            "y의 값은?:6\n",
            "두 수의 합은 : 15\n",
            "두 수의 차는 : 3\n",
            "두 수의 곱은 : 54\n",
            "두 수의 평균은 : 7.5\n",
            "큰 수는? : 9\n",
            "작은  수는? : 6\n"
          ]
        }
      ],
      "source": [
        "x = int(input(\"x의 값은?:\"))\n",
        "y = int(input(\"y의 값은?:\") )\n",
        "print(\"두 수의 합은 :\",(x + y))\n",
        "print(\"두 수의 차는 :\", (x - y))\n",
        "print(\"두 수의 곱은 :\",x * y)\n",
        "print(\"두 수의 평균은 :\",(x + y)/2)\n",
        "print(\"큰 수는? :\",max(x,y))\n",
        "print(\"작은  수는? :\",min(x,y))"
      ]
    },
    {
      "cell_type": "markdown",
      "source": [
        "2.기둥의 부피를 계산하는 프로그랩을 작성해보자. 원기둥의 부피는 다옴과 같이 계산\n",
        "한다\n"
      ],
      "metadata": {
        "id": "1PiqdK5uk_37"
      }
    },
    {
      "cell_type": "code",
      "source": [
        "r = float(input(\"r의 값은?:\"))\n",
        "h = float(input(\"h의 값은?:\"))\n",
        "\n",
        "vol = 3.141592 * r**2 * h\n",
        "print(\"원기둥의 부피:\"  , vol)"
      ],
      "metadata": {
        "colab": {
          "base_uri": "https://localhost:8080/"
        },
        "id": "KeXHgZMWdYa9",
        "outputId": "ab4336cc-2acd-4273-a83f-c51aea220781"
      },
      "execution_count": null,
      "outputs": [
        {
          "output_type": "stream",
          "name": "stdout",
          "text": [
            "r의 값은?:10\n",
            "h의 값은?:10\n",
            "원기둥의 부피: 3141.592\n"
          ]
        }
      ]
    },
    {
      "cell_type": "markdown",
      "source": [
        "3. 사용지로부터 정수를 받은 내 정수의 자러수의 합을 계산하는 프로그랩을 작성하여 보자. 예릍 들어서 사용자가 1234를 입럭하였다면 1+2+3+4를 계산하면 된다 나머지 연\n",
        "산자와 정수 나눗셈 연산자 〃를 적극적으로 사용해보자\n"
      ],
      "metadata": {
        "id": "_m6SdAT9lFj7"
      }
    },
    {
      "cell_type": "code",
      "source": [
        "number = int(input(\"정수를 입력하시오 :\"))\n",
        "\n",
        "sum = 0\n",
        "sum = sum + number % 10\n",
        "number = number //10 \n",
        "\n",
        "sum = sum + number % 10\n",
        "number = number // 10\n",
        "\n",
        "sum = sum + number % 10 \n",
        "number = number // 10\n",
        "\n",
        "sum = sum + number % 10\n",
        "number = number // 10\n",
        "print(\"자리 수의 합은:\",str(sum))"
      ],
      "metadata": {
        "colab": {
          "base_uri": "https://localhost:8080/"
        },
        "id": "wU7mK6lNfCMq",
        "outputId": "2bf34e93-31cb-49bb-9507-66042d864e50"
      },
      "execution_count": null,
      "outputs": [
        {
          "output_type": "stream",
          "name": "stdout",
          "text": [
            "정수를 입력하시오 :1234\n",
            "자리 수의 합은: 10\n"
          ]
        }
      ]
    },
    {
      "cell_type": "markdown",
      "source": [
        "4.  사용자로부터 두 점의 좌표 (xl, yl)과 (x2, y2)를 입력받아서 두 점 사이의 거리를 계산하는 프로그램을 작성해보자 스크립트 모드로 작성하라 거리는 다음 식으로 계산한다.\n",
        "\n",
        "\n",
        "```\n",
        "# 코드로 형식 지정됨\n",
        "```\n",
        "\n"
      ],
      "metadata": {
        "id": "I5CaYmNXlML2"
      }
    },
    {
      "cell_type": "code",
      "source": [
        " x1 = int(input(\"x1값을 입력하시오 :\"))\n",
        " y1 = int(input(\"y1값을 입력하시오 :\"))  \n",
        " x2 = int(input(\"x2값을 입력하시오 :\"))\n",
        " y2 = int(input(\"y2값을 입력하시오 :\"))\n",
        " dist = ((x2 - x1) **2 + (y2 - y1) **2 )** 0.5\n",
        "print(\"두점 사이의 거리는?\",dist, \"입니다.\")"
      ],
      "metadata": {
        "colab": {
          "base_uri": "https://localhost:8080/"
        },
        "id": "vc86kR0Ch4vy",
        "outputId": "31081b4f-a757-44b7-e769-892f51a460d2"
      },
      "execution_count": null,
      "outputs": [
        {
          "output_type": "stream",
          "name": "stdout",
          "text": [
            "x1값을 입력하시오 :0\n",
            "y1값을 입력하시오 :0\n",
            "x2값을 입력하시오 :100\n",
            "y2값을 입력하시오 :100\n",
            "두점 사이의 거리는? 141.4213562373095 입니다.\n"
          ]
        }
      ]
    },
    {
      "cell_type": "markdown",
      "source": [
        "5. 1번문제에서 계산한 거리가맞는지, 터틀그래픽으로 확인해보자. 거북이를 읜쪽으로 45\n",
        "도 회전하여 141만큼 전진시킨다. 다시 거북이\n",
        "를 (0, 0)으로 이동하고 0도를 가리키게 한 후\n",
        "에 100만큼 전진하고 왼쪽으로 90도 회전하여\n",
        "100만큼 전진한다. 화면에 그러진 직선이 일치\n",
        "하는가?\n"
      ],
      "metadata": {
        "id": "YkfPuu_epChb"
      }
    },
    {
      "cell_type": "code",
      "source": [
        "import turtle\n",
        "t = turtle.Turtle()\n",
        "t.shape(\"turtle\")\n",
        "t.lt(45)\n",
        "t.fd(141)\n",
        "t.setheading(0)\n",
        "t.goto(0,0)\n",
        "t.fd(100)\n",
        "t.lt(90)\n",
        "t.fd(100)\n"
      ],
      "metadata": {
        "id": "86vMzrf_lPTB"
      },
      "execution_count": null,
      "outputs": []
    },
    {
      "cell_type": "markdown",
      "source": [
        "6 사용자로부터 두점을 입력 받아서  터틀그래픽 을이용하여 두점을 연결하는직선을그\n",
        "린다 직선의 끝점에 직선 의 길이를 계산하여 츨력해보자\n"
      ],
      "metadata": {
        "id": "VZos4Jixrv57"
      }
    },
    {
      "cell_type": "code",
      "source": [],
      "metadata": {
        "id": "1xnSqAjjr675"
      },
      "execution_count": null,
      "outputs": []
    },
    {
      "cell_type": "code",
      "source": [
        "import turtle\n",
        "t =turtle.Turtle()\n",
        "t.shape(\"turtle\")\n",
        "x1 = int(input(\"x1 :\"))\n",
        "x1 :0\n",
        "y1 = int(input(\"y1 :\"))\n",
        "y1 :0\n",
        "x2 = int(input(\"x2 :\"))\n",
        "x2 :100\n",
        "y2 = int(input(\"y2 :\"))\n",
        "y2 :100\n",
        "dist = ((x1 - x2)**2 + (y1 - y2)**2)**0.5\n",
        "\n",
        "t.up()\n",
        "t.goto(x1,x1)\n",
        "t.down()\n",
        "t.goto(x2,y2)\n",
        "t.write(\"점의 길이 = \" + str(dist))\n"
      ],
      "metadata": {
        "id": "Nn7lqbOKpd1e"
      },
      "execution_count": null,
      "outputs": []
    },
    {
      "cell_type": "markdown",
      "source": [
        "7.파이썬에서 time() 을 호출하면 1970년 1월 1일 이후 흘러온  전체 초가 반환된다 이것을 적절하게 나누거나 나머지를 구해서 현재 시간의 시와 분을 계산할 수 있을까?\n"
      ],
      "metadata": {
        "id": "POqF7pk5luUr"
      }
    },
    {
      "cell_type": "code",
      "source": [],
      "metadata": {
        "id": "-b3nsnL4l5mS"
      },
      "execution_count": null,
      "outputs": []
    },
    {
      "cell_type": "markdown",
      "source": [
        "8.움직이는 물체의 운동에너지를 계산해보자. 물체의 에너지를 계산하는 식은 2*무게*\n",
        "속도*2이다.\n"
      ],
      "metadata": {
        "id": "2VC8m2tnmSbk"
      }
    },
    {
      "cell_type": "code",
      "source": [],
      "metadata": {
        "id": "sBPXFNMqmgTU"
      },
      "execution_count": null,
      "outputs": []
    }
  ]
}